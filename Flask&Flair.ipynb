{
  "nbformat": 4,
  "nbformat_minor": 0,
  "metadata": {
    "colab": {
      "name": "Flask&Flair.ipynb",
      "provenance": [],
      "collapsed_sections": [],
      "authorship_tag": "ABX9TyN5jaexin3wLWFoAVcc7xl4",
      "include_colab_link": true
    },
    "kernelspec": {
      "name": "python3",
      "display_name": "Python 3"
    }
  },
  "cells": [
    {
      "cell_type": "markdown",
      "metadata": {
        "id": "view-in-github",
        "colab_type": "text"
      },
      "source": [
        "<a href=\"https://colab.research.google.com/github/ThakkarHarsh/Flask-in-colab-with-Flair/blob/main/Flask%26Flair.ipynb\" target=\"_parent\"><img src=\"https://colab.research.google.com/assets/colab-badge.svg\" alt=\"Open In Colab\"/></a>"
      ]
    },
    {
      "cell_type": "code",
      "metadata": {
        "id": "pguXZChnxq4K"
      },
      "source": [
        "!pip install datascience\r\n",
        "!pip install flask-ngrok\r\n",
        "!pip install flair"
      ],
      "execution_count": null,
      "outputs": []
    },
    {
      "cell_type": "code",
      "metadata": {
        "id": "y2nUMiuBxt2I"
      },
      "source": [
        "import json\r\n",
        "from flask_ngrok import run_with_ngrok\r\n",
        "from flair.embeddings import FlairEmbeddings\r\n",
        "from flask import Flask,jsonify,make_response, request, Response\r\n",
        "app = Flask(__name__)\r\n",
        "run_with_ngrok(app)  \r\n",
        "@app.route(\"/\")\r\n",
        "def home():\r\n",
        "    model = FlairEmbeddings('news-forward').lm\r\n",
        "    temperature = 0.2\r\n",
        "    prefix = 'murder by'\r\n",
        "    data = []\r\n",
        "    for i in range(5):\r\n",
        "        text = model.generate_text(prefix=prefix, temperature=temperature, number_of_characters=50, break_on_suffix='\\n')\r\n",
        "        # sd = np.array(text)\r\n",
        "        data.append(text)\r\n",
        "        print(text)\r\n",
        "    return jsonify(np.array(data)) \r\n",
        "app.run()"
      ],
      "execution_count": null,
      "outputs": []
    }
  ]
}